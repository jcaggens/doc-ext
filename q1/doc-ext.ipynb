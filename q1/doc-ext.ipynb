{
 "cells": [
  {
   "cell_type": "code",
   "execution_count": 1,
   "id": "c5f8afef",
   "metadata": {},
   "outputs": [
    {
     "name": "stdout",
     "output_type": "stream",
     "text": [
      "Requirement already satisfied: pandas in c:\\users\\zozi\\documents\\mestrado\\doc-ext\\.venv\\lib\\site-packages (from -r requirements.txt (line 1)) (2.3.1)\n",
      "Requirement already satisfied: requests in c:\\users\\zozi\\documents\\mestrado\\doc-ext\\.venv\\lib\\site-packages (from -r requirements.txt (line 2)) (2.32.4)\n",
      "Requirement already satisfied: langchain_core in c:\\users\\zozi\\documents\\mestrado\\doc-ext\\.venv\\lib\\site-packages (from -r requirements.txt (line 3)) (0.3.70)\n",
      "Requirement already satisfied: langchain_ollama in c:\\users\\zozi\\documents\\mestrado\\doc-ext\\.venv\\lib\\site-packages (from -r requirements.txt (line 4)) (0.3.5)\n",
      "Requirement already satisfied: numpy>=1.26.0 in c:\\users\\zozi\\documents\\mestrado\\doc-ext\\.venv\\lib\\site-packages (from pandas->-r requirements.txt (line 1)) (2.3.1)\n",
      "Requirement already satisfied: python-dateutil>=2.8.2 in c:\\users\\zozi\\documents\\mestrado\\doc-ext\\.venv\\lib\\site-packages (from pandas->-r requirements.txt (line 1)) (2.9.0.post0)\n",
      "Requirement already satisfied: pytz>=2020.1 in c:\\users\\zozi\\documents\\mestrado\\doc-ext\\.venv\\lib\\site-packages (from pandas->-r requirements.txt (line 1)) (2025.2)\n",
      "Requirement already satisfied: tzdata>=2022.7 in c:\\users\\zozi\\documents\\mestrado\\doc-ext\\.venv\\lib\\site-packages (from pandas->-r requirements.txt (line 1)) (2025.2)\n",
      "Requirement already satisfied: charset_normalizer<4,>=2 in c:\\users\\zozi\\documents\\mestrado\\doc-ext\\.venv\\lib\\site-packages (from requests->-r requirements.txt (line 2)) (3.4.2)\n",
      "Requirement already satisfied: idna<4,>=2.5 in c:\\users\\zozi\\documents\\mestrado\\doc-ext\\.venv\\lib\\site-packages (from requests->-r requirements.txt (line 2)) (3.10)\n",
      "Requirement already satisfied: urllib3<3,>=1.21.1 in c:\\users\\zozi\\documents\\mestrado\\doc-ext\\.venv\\lib\\site-packages (from requests->-r requirements.txt (line 2)) (2.5.0)\n",
      "Requirement already satisfied: certifi>=2017.4.17 in c:\\users\\zozi\\documents\\mestrado\\doc-ext\\.venv\\lib\\site-packages (from requests->-r requirements.txt (line 2)) (2025.7.14)\n",
      "Requirement already satisfied: langsmith>=0.3.45 in c:\\users\\zozi\\documents\\mestrado\\doc-ext\\.venv\\lib\\site-packages (from langchain_core->-r requirements.txt (line 3)) (0.4.8)\n",
      "Requirement already satisfied: tenacity!=8.4.0,<10.0.0,>=8.1.0 in c:\\users\\zozi\\documents\\mestrado\\doc-ext\\.venv\\lib\\site-packages (from langchain_core->-r requirements.txt (line 3)) (9.1.2)\n",
      "Requirement already satisfied: jsonpatch<2.0,>=1.33 in c:\\users\\zozi\\documents\\mestrado\\doc-ext\\.venv\\lib\\site-packages (from langchain_core->-r requirements.txt (line 3)) (1.33)\n",
      "Requirement already satisfied: PyYAML>=5.3 in c:\\users\\zozi\\documents\\mestrado\\doc-ext\\.venv\\lib\\site-packages (from langchain_core->-r requirements.txt (line 3)) (6.0.2)\n",
      "Requirement already satisfied: typing-extensions>=4.7 in c:\\users\\zozi\\documents\\mestrado\\doc-ext\\.venv\\lib\\site-packages (from langchain_core->-r requirements.txt (line 3)) (4.14.1)\n",
      "Requirement already satisfied: packaging>=23.2 in c:\\users\\zozi\\documents\\mestrado\\doc-ext\\.venv\\lib\\site-packages (from langchain_core->-r requirements.txt (line 3)) (25.0)\n",
      "Requirement already satisfied: pydantic>=2.7.4 in c:\\users\\zozi\\documents\\mestrado\\doc-ext\\.venv\\lib\\site-packages (from langchain_core->-r requirements.txt (line 3)) (2.11.7)\n",
      "Requirement already satisfied: jsonpointer>=1.9 in c:\\users\\zozi\\documents\\mestrado\\doc-ext\\.venv\\lib\\site-packages (from jsonpatch<2.0,>=1.33->langchain_core->-r requirements.txt (line 3)) (3.0.0)\n",
      "Requirement already satisfied: ollama<1.0.0,>=0.5.1 in c:\\users\\zozi\\documents\\mestrado\\doc-ext\\.venv\\lib\\site-packages (from langchain_ollama->-r requirements.txt (line 4)) (0.5.1)\n",
      "Requirement already satisfied: httpx>=0.27 in c:\\users\\zozi\\documents\\mestrado\\doc-ext\\.venv\\lib\\site-packages (from ollama<1.0.0,>=0.5.1->langchain_ollama->-r requirements.txt (line 4)) (0.28.1)\n",
      "Requirement already satisfied: anyio in c:\\users\\zozi\\documents\\mestrado\\doc-ext\\.venv\\lib\\site-packages (from httpx>=0.27->ollama<1.0.0,>=0.5.1->langchain_ollama->-r requirements.txt (line 4)) (4.9.0)\n",
      "Requirement already satisfied: httpcore==1.* in c:\\users\\zozi\\documents\\mestrado\\doc-ext\\.venv\\lib\\site-packages (from httpx>=0.27->ollama<1.0.0,>=0.5.1->langchain_ollama->-r requirements.txt (line 4)) (1.0.9)\n",
      "Requirement already satisfied: h11>=0.16 in c:\\users\\zozi\\documents\\mestrado\\doc-ext\\.venv\\lib\\site-packages (from httpcore==1.*->httpx>=0.27->ollama<1.0.0,>=0.5.1->langchain_ollama->-r requirements.txt (line 4)) (0.16.0)\n",
      "Requirement already satisfied: orjson<4.0.0,>=3.9.14 in c:\\users\\zozi\\documents\\mestrado\\doc-ext\\.venv\\lib\\site-packages (from langsmith>=0.3.45->langchain_core->-r requirements.txt (line 3)) (3.11.0)\n",
      "Requirement already satisfied: requests-toolbelt<2.0.0,>=1.0.0 in c:\\users\\zozi\\documents\\mestrado\\doc-ext\\.venv\\lib\\site-packages (from langsmith>=0.3.45->langchain_core->-r requirements.txt (line 3)) (1.0.0)\n",
      "Requirement already satisfied: zstandard<0.24.0,>=0.23.0 in c:\\users\\zozi\\documents\\mestrado\\doc-ext\\.venv\\lib\\site-packages (from langsmith>=0.3.45->langchain_core->-r requirements.txt (line 3)) (0.23.0)\n",
      "Requirement already satisfied: annotated-types>=0.6.0 in c:\\users\\zozi\\documents\\mestrado\\doc-ext\\.venv\\lib\\site-packages (from pydantic>=2.7.4->langchain_core->-r requirements.txt (line 3)) (0.7.0)\n",
      "Requirement already satisfied: pydantic-core==2.33.2 in c:\\users\\zozi\\documents\\mestrado\\doc-ext\\.venv\\lib\\site-packages (from pydantic>=2.7.4->langchain_core->-r requirements.txt (line 3)) (2.33.2)\n",
      "Requirement already satisfied: typing-inspection>=0.4.0 in c:\\users\\zozi\\documents\\mestrado\\doc-ext\\.venv\\lib\\site-packages (from pydantic>=2.7.4->langchain_core->-r requirements.txt (line 3)) (0.4.1)\n",
      "Requirement already satisfied: six>=1.5 in c:\\users\\zozi\\documents\\mestrado\\doc-ext\\.venv\\lib\\site-packages (from python-dateutil>=2.8.2->pandas->-r requirements.txt (line 1)) (1.17.0)\n",
      "Requirement already satisfied: sniffio>=1.1 in c:\\users\\zozi\\documents\\mestrado\\doc-ext\\.venv\\lib\\site-packages (from anyio->httpx>=0.27->ollama<1.0.0,>=0.5.1->langchain_ollama->-r requirements.txt (line 4)) (1.3.1)\n"
     ]
    }
   ],
   "source": [
    "!pip install -r requirements.txt"
   ]
  },
  {
   "cell_type": "code",
   "execution_count": 1,
   "id": "a9abd826",
   "metadata": {},
   "outputs": [],
   "source": [
    "import pandas as pd\n",
    "import requests\n",
    "import os\n",
    "import json\n",
    "from langchain_core.messages import HumanMessage\n",
    "from langchain_ollama import ChatOllama"
   ]
  },
  {
   "cell_type": "code",
   "execution_count": 6,
   "id": "f9af2408",
   "metadata": {},
   "outputs": [
    {
     "name": "stdout",
     "output_type": "stream",
     "text": [
      "- gemma3n:e4b\n"
     ]
    }
   ],
   "source": [
    "OLLAMA_HOST = \"http://localhost:11434/\"\n",
    "os.environ[\"OLLAMA_HOST\"] = OLLAMA_HOST\n",
    "\n",
    "response = requests.get(f\"{OLLAMA_HOST}/api/tags\")\n",
    "\n",
    "\n",
    "if response.status_code == 200:\n",
    "    modelos = response.json().get(\"models\", [])\n",
    "    for modelo in modelos:\n",
    "        print(f\"- {modelo['name']}\")\n",
    "else:\n",
    "    print(\"Erro ao acessar o servidor Ollama:\", response.text)\n"
   ]
  },
  {
   "cell_type": "code",
   "execution_count": 10,
   "id": "4bd23579",
   "metadata": {},
   "outputs": [],
   "source": [
    "MODELO = \"gemma3n:e4b\"\n",
    "\n",
    "llm = ChatOllama(model=MODELO, base_url = OLLAMA_HOST, temperature=0)"
   ]
  },
  {
   "cell_type": "code",
   "execution_count": 11,
   "id": "72141317",
   "metadata": {},
   "outputs": [
    {
     "name": "stdout",
     "output_type": "stream",
     "text": [
      "Yes, **shiitake is definitely a mushroom!** \n",
      "\n",
      "It's a popular edible mushroom known for its savory, umami flavor. It's widely used in Asian cuisine. \n",
      "\n",
      "So, to be clear: **Shiitake = Mushroom** 😊 \n",
      "\n",
      "Yes, **shiitake** is a type of mushroom! \n",
      "\n",
      "You likely meant **shiitake**, not \"shimeji\".  **Shiitake** (pronounced \"shee-TAH-kee\") is a very popular and delicious edible mushroom. \n",
      "\n",
      "Here's a little more about it:\n",
      "\n",
      "*   **Appearance:** Shiitake mushrooms have a distinctive umbrella-shaped cap that is typically brown or dark brown.\n",
      "*   **Taste:** They have a rich, savory, and umami flavor.\n",
      "*   **Culinary Uses:** Shiitake mushrooms are widely used in Asian cuisine, particularly in Chinese, Japanese, and Korean dishes. They are great sautéed, grilled, or added to soups and stews.\n",
      "*   **Health Benefits:** Shiitake mushrooms are also known for their potential health benefits, including boosting the immune system.\n",
      "\n",
      "**Shimoji** is a different type of mushroom, also edible, but less commonly known than shiitake. It's also a popular mushroom in East Asian cuisine.\n",
      "\n",
      "So, to be clear: **Shiitake is a mushroom!**\n",
      "\n",
      "\n",
      "\n",
      "\n",
      "This is a funny question! No, Paris is not a mushroom. \n",
      "\n",
      "Paris is the capital city of France, a major global center for art, fashion, gastronomy, and culture. It's a beautiful city with famous landmarks like the Eiffel Tower, the Louvre Museum, and Notre Dame Cathedral.\n",
      "\n",
      "Mushrooms are fungi – they grow in damp places and are a type of organism, not a city! \n",
      "\n",
      "It's a humorous question because it plays on the similar-sounding words \"Paris\" and \"pari-shroom.\" 😊 \n",
      "\n",
      "\n",
      "This is a funny question! No, Toronto is not a mushroom. \n",
      "\n",
      "Toronto is a major city in Canada, located in the province of Ontario. It's known for things like:\n",
      "\n",
      "*   **CN Tower:** A very tall landmark.\n",
      "*   **Multiculturalism:** A diverse population from all over the world.\n",
      "*   **Sports Teams:** The Toronto Maple Leafs (hockey), Toronto Raptors (basketball), Toronto Blue Jays (baseball), and Toronto FC (soccer).\n",
      "*   **Niagara Falls:** A popular tourist destination nearby.\n",
      "\n",
      "Mushrooms are fungi – a completely different kingdom of life! They grow in the ground or on decaying matter. \n",
      "\n",
      "So, while Toronto might have a lot of interesting things growing *in* it (like a vibrant culture and economy!), it's definitely not a mushroom itself. 😊\n",
      "\n",
      "\n",
      "\n",
      "\n",
      "Yes, **Amanita is a genus of mushrooms**. \n",
      "\n",
      "However, it's **very important to know that many species of Amanita are highly poisonous, and some are deadly.** \n",
      "\n",
      "Here's a more detailed breakdown:\n",
      "\n",
      "*   **Genus:** Amanita is a genus of mushrooms belonging to the family Amanitaceae.\n",
      "*   **Appearance:** They are often characterized by a volva (a sac-like structure at the base of the stem), a ring (annulus) on the stem, and a cap that can be various colors (white, red, brown, etc.).\n",
      "*   **Toxicity:**  The most famous and dangerous members of the Amanita genus include:\n",
      "    *   **Death Cap (Amanita phalloides):** Responsible for the majority of fatal mushroom poisonings worldwide.\n",
      "    *   **Destroying Angel (Amanita virosa and Amanita ocreata):** Also extremely poisonous.\n",
      "*   **Caution:** **Never eat a wild mushroom unless you are 100% certain of its identification and edibility.**  Amanitas are notoriously difficult to identify correctly, and misidentification can have severe, even fatal, consequences.  If you are interested in foraging for mushrooms, it's crucial to learn from an experienced mycologist (mushroom expert).\n",
      "\n",
      "\n",
      "\n",
      "**In short: Amanita *is* a mushroom, but many are deadly poisonous.  Exercise extreme caution and never consume them unless positively identified by an expert.**\n",
      "\n",
      "\n",
      "\n",
      "You can find more information on reliable sources like:\n",
      "\n",
      "*   **The National Institutes of Health (NIH):** [https://www.nlm.nih.gov/medlineplus/poison.html](https://www.nlm.nih.gov/medlineplus/poison.html)\n",
      "*   **The Mushroom Expert:** [https://www.mushroomexpert.com/](https://www.mushroomexpert.com/)\n",
      "*   **Your local mycological society:**  A great resource for learning about mushrooms in your area.\n",
      "\n",
      "\n",
      "\n",
      "\n"
     ]
    }
   ],
   "source": [
    "\n",
    "\n",
    "mushrooms = [\"shitake\", \"shimeji\", \"paris\", \"toronto\", \"amanita\"]\n",
    "\n",
    "for mushroom in mushrooms:\n",
    "    prompt = f\"\"\"\n",
    "     Is {mushroom} a mushroom?\n",
    "    \"\"\"\n",
    "    try:\n",
    "        response = llm.invoke([HumanMessage(content=prompt)])\n",
    "    except Exception as e:\n",
    "        print(f\"Erro ao processar\\nErro: {e}\")\n",
    "\n",
    "    print(response.content)"
   ]
  },
  {
   "cell_type": "code",
   "execution_count": 4,
   "id": "a2d73162",
   "metadata": {},
   "outputs": [
    {
     "name": "stdout",
     "output_type": "stream",
     "text": [
      "John walked along the forest path, leaves crunching under his feet. Spark trotted beside him, ears perked and nose twitching at every scent. A squirrel darted across the trail. Spark gave chase, but quickly returned, tail wagging. As the sun set, the two sat by a quiet stream, the water reflecting the golden sky. Together, they watched the day fade into night.\n"
     ]
    }
   ],
   "source": [
    "with open('./texto.txt', 'r') as file:\n",
    "    content = file.read()\n",
    "    print(content)"
   ]
  },
  {
   "cell_type": "code",
   "execution_count": null,
   "id": "f4ec2947",
   "metadata": {},
   "outputs": [
    {
     "name": "stdout",
     "output_type": "stream",
     "text": [
      "\n",
      "    What is the name of the dog and of the person in the text: \"John walked along the forest path, leaves crunching under his feet. Spark trotted beside him, ears perked and nose twitching at every scent. A squirrel darted across the trail. Spark gave chase, but quickly returned, tail wagging. As the sun set, the two sat by a quiet stream, the water reflecting the golden sky. Together, they watched the day fade into night.\". And answer it with a json with structured formated.\n",
      "\n",
      "```json\n",
      "{\n",
      "  \"dog_name\": \"Spark\",\n",
      "  \"person_name\": \"John\"\n",
      "}\n",
      "```\n",
      "\n"
     ]
    }
   ],
   "source": [
    "prompt = f\"\"\"\n",
    "    What is the name of the dog and of the person in the text: \"{content}\". And answer it with a json with structured formated.\n",
    "\"\"\"\n",
    "print(prompt)\n",
    "\n",
    "try:\n",
    "    response = llm.invoke([HumanMessage(content=prompt)])\n",
    "except Exception as e:\n",
    "    print(f\"Erro ao processar\\nErro: {e}\")\n",
    "\n",
    "print(response.content)\n"
   ]
  }
 ],
 "metadata": {
  "kernelspec": {
   "display_name": ".venv",
   "language": "python",
   "name": "python3"
  },
  "language_info": {
   "codemirror_mode": {
    "name": "ipython",
    "version": 3
   },
   "file_extension": ".py",
   "mimetype": "text/x-python",
   "name": "python",
   "nbconvert_exporter": "python",
   "pygments_lexer": "ipython3",
   "version": "3.12.10"
  }
 },
 "nbformat": 4,
 "nbformat_minor": 5
}
