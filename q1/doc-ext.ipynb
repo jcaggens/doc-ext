{
 "cells": [
  {
   "cell_type": "code",
   "execution_count": null,
   "id": "c5f8afef",
   "metadata": {},
   "outputs": [],
   "source": [
    "!pip install -r requirements.txt"
   ]
  },
  {
   "cell_type": "code",
   "execution_count": 1,
   "id": "a9abd826",
   "metadata": {},
   "outputs": [],
   "source": [
    "import pandas as pd\n",
    "import requests\n",
    "import os\n",
    "import json\n",
    "from langchain_core.messages import HumanMessage\n",
    "from langchain_ollama import ChatOllama"
   ]
  },
  {
   "cell_type": "code",
   "execution_count": 3,
   "id": "f9af2408",
   "metadata": {},
   "outputs": [
    {
     "name": "stdout",
     "output_type": "stream",
     "text": [
      "- gemma3n:e4b\n"
     ]
    }
   ],
   "source": [
    "OLLAMA_HOST = \"http://localhost:11434/\"\n",
    "os.environ[\"OLLAMA_HOST\"] = OLLAMA_HOST\n",
    "\n",
    "response = requests.get(f\"{OLLAMA_HOST}/api/tags\")\n",
    "\n",
    "\n",
    "if response.status_code == 200:\n",
    "    modelos = response.json().get(\"models\", [])\n",
    "    for modelo in modelos:\n",
    "        print(f\"- {modelo['name']}\")\n",
    "else:\n",
    "    print(\"Erro ao acessar o servidor Ollama:\", response.text)\n"
   ]
  }
 ],
 "metadata": {
  "kernelspec": {
   "display_name": ".venv",
   "language": "python",
   "name": "python3"
  },
  "language_info": {
   "codemirror_mode": {
    "name": "ipython",
    "version": 3
   },
   "file_extension": ".py",
   "mimetype": "text/x-python",
   "name": "python",
   "nbconvert_exporter": "python",
   "pygments_lexer": "ipython3",
   "version": "3.12.10"
  }
 },
 "nbformat": 4,
 "nbformat_minor": 5
}
