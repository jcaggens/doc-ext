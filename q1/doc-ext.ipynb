{
 "cells": [
  {
   "cell_type": "code",
   "execution_count": 1,
   "id": "c5f8afef",
   "metadata": {},
   "outputs": [
    {
     "name": "stdout",
     "output_type": "stream",
     "text": [
      "Requirement already satisfied: pandas in c:\\users\\zozi\\documents\\mestrado\\doc-ext\\.venv\\lib\\site-packages (from -r requirements.txt (line 1)) (2.3.1)\n",
      "Requirement already satisfied: requests in c:\\users\\zozi\\documents\\mestrado\\doc-ext\\.venv\\lib\\site-packages (from -r requirements.txt (line 2)) (2.32.4)\n",
      "Requirement already satisfied: langchain_core in c:\\users\\zozi\\documents\\mestrado\\doc-ext\\.venv\\lib\\site-packages (from -r requirements.txt (line 3)) (0.3.70)\n",
      "Requirement already satisfied: langchain_ollama in c:\\users\\zozi\\documents\\mestrado\\doc-ext\\.venv\\lib\\site-packages (from -r requirements.txt (line 4)) (0.3.5)\n",
      "Requirement already satisfied: numpy>=1.26.0 in c:\\users\\zozi\\documents\\mestrado\\doc-ext\\.venv\\lib\\site-packages (from pandas->-r requirements.txt (line 1)) (2.3.1)\n",
      "Requirement already satisfied: python-dateutil>=2.8.2 in c:\\users\\zozi\\documents\\mestrado\\doc-ext\\.venv\\lib\\site-packages (from pandas->-r requirements.txt (line 1)) (2.9.0.post0)\n",
      "Requirement already satisfied: pytz>=2020.1 in c:\\users\\zozi\\documents\\mestrado\\doc-ext\\.venv\\lib\\site-packages (from pandas->-r requirements.txt (line 1)) (2025.2)\n",
      "Requirement already satisfied: tzdata>=2022.7 in c:\\users\\zozi\\documents\\mestrado\\doc-ext\\.venv\\lib\\site-packages (from pandas->-r requirements.txt (line 1)) (2025.2)\n",
      "Requirement already satisfied: charset_normalizer<4,>=2 in c:\\users\\zozi\\documents\\mestrado\\doc-ext\\.venv\\lib\\site-packages (from requests->-r requirements.txt (line 2)) (3.4.2)\n",
      "Requirement already satisfied: idna<4,>=2.5 in c:\\users\\zozi\\documents\\mestrado\\doc-ext\\.venv\\lib\\site-packages (from requests->-r requirements.txt (line 2)) (3.10)\n",
      "Requirement already satisfied: urllib3<3,>=1.21.1 in c:\\users\\zozi\\documents\\mestrado\\doc-ext\\.venv\\lib\\site-packages (from requests->-r requirements.txt (line 2)) (2.5.0)\n",
      "Requirement already satisfied: certifi>=2017.4.17 in c:\\users\\zozi\\documents\\mestrado\\doc-ext\\.venv\\lib\\site-packages (from requests->-r requirements.txt (line 2)) (2025.7.14)\n",
      "Requirement already satisfied: langsmith>=0.3.45 in c:\\users\\zozi\\documents\\mestrado\\doc-ext\\.venv\\lib\\site-packages (from langchain_core->-r requirements.txt (line 3)) (0.4.8)\n",
      "Requirement already satisfied: tenacity!=8.4.0,<10.0.0,>=8.1.0 in c:\\users\\zozi\\documents\\mestrado\\doc-ext\\.venv\\lib\\site-packages (from langchain_core->-r requirements.txt (line 3)) (9.1.2)\n",
      "Requirement already satisfied: jsonpatch<2.0,>=1.33 in c:\\users\\zozi\\documents\\mestrado\\doc-ext\\.venv\\lib\\site-packages (from langchain_core->-r requirements.txt (line 3)) (1.33)\n",
      "Requirement already satisfied: PyYAML>=5.3 in c:\\users\\zozi\\documents\\mestrado\\doc-ext\\.venv\\lib\\site-packages (from langchain_core->-r requirements.txt (line 3)) (6.0.2)\n",
      "Requirement already satisfied: typing-extensions>=4.7 in c:\\users\\zozi\\documents\\mestrado\\doc-ext\\.venv\\lib\\site-packages (from langchain_core->-r requirements.txt (line 3)) (4.14.1)\n",
      "Requirement already satisfied: packaging>=23.2 in c:\\users\\zozi\\documents\\mestrado\\doc-ext\\.venv\\lib\\site-packages (from langchain_core->-r requirements.txt (line 3)) (25.0)\n",
      "Requirement already satisfied: pydantic>=2.7.4 in c:\\users\\zozi\\documents\\mestrado\\doc-ext\\.venv\\lib\\site-packages (from langchain_core->-r requirements.txt (line 3)) (2.11.7)\n",
      "Requirement already satisfied: jsonpointer>=1.9 in c:\\users\\zozi\\documents\\mestrado\\doc-ext\\.venv\\lib\\site-packages (from jsonpatch<2.0,>=1.33->langchain_core->-r requirements.txt (line 3)) (3.0.0)\n",
      "Requirement already satisfied: ollama<1.0.0,>=0.5.1 in c:\\users\\zozi\\documents\\mestrado\\doc-ext\\.venv\\lib\\site-packages (from langchain_ollama->-r requirements.txt (line 4)) (0.5.1)\n",
      "Requirement already satisfied: httpx>=0.27 in c:\\users\\zozi\\documents\\mestrado\\doc-ext\\.venv\\lib\\site-packages (from ollama<1.0.0,>=0.5.1->langchain_ollama->-r requirements.txt (line 4)) (0.28.1)\n",
      "Requirement already satisfied: anyio in c:\\users\\zozi\\documents\\mestrado\\doc-ext\\.venv\\lib\\site-packages (from httpx>=0.27->ollama<1.0.0,>=0.5.1->langchain_ollama->-r requirements.txt (line 4)) (4.9.0)\n",
      "Requirement already satisfied: httpcore==1.* in c:\\users\\zozi\\documents\\mestrado\\doc-ext\\.venv\\lib\\site-packages (from httpx>=0.27->ollama<1.0.0,>=0.5.1->langchain_ollama->-r requirements.txt (line 4)) (1.0.9)\n",
      "Requirement already satisfied: h11>=0.16 in c:\\users\\zozi\\documents\\mestrado\\doc-ext\\.venv\\lib\\site-packages (from httpcore==1.*->httpx>=0.27->ollama<1.0.0,>=0.5.1->langchain_ollama->-r requirements.txt (line 4)) (0.16.0)\n",
      "Requirement already satisfied: orjson<4.0.0,>=3.9.14 in c:\\users\\zozi\\documents\\mestrado\\doc-ext\\.venv\\lib\\site-packages (from langsmith>=0.3.45->langchain_core->-r requirements.txt (line 3)) (3.11.0)\n",
      "Requirement already satisfied: requests-toolbelt<2.0.0,>=1.0.0 in c:\\users\\zozi\\documents\\mestrado\\doc-ext\\.venv\\lib\\site-packages (from langsmith>=0.3.45->langchain_core->-r requirements.txt (line 3)) (1.0.0)\n",
      "Requirement already satisfied: zstandard<0.24.0,>=0.23.0 in c:\\users\\zozi\\documents\\mestrado\\doc-ext\\.venv\\lib\\site-packages (from langsmith>=0.3.45->langchain_core->-r requirements.txt (line 3)) (0.23.0)\n",
      "Requirement already satisfied: annotated-types>=0.6.0 in c:\\users\\zozi\\documents\\mestrado\\doc-ext\\.venv\\lib\\site-packages (from pydantic>=2.7.4->langchain_core->-r requirements.txt (line 3)) (0.7.0)\n",
      "Requirement already satisfied: pydantic-core==2.33.2 in c:\\users\\zozi\\documents\\mestrado\\doc-ext\\.venv\\lib\\site-packages (from pydantic>=2.7.4->langchain_core->-r requirements.txt (line 3)) (2.33.2)\n",
      "Requirement already satisfied: typing-inspection>=0.4.0 in c:\\users\\zozi\\documents\\mestrado\\doc-ext\\.venv\\lib\\site-packages (from pydantic>=2.7.4->langchain_core->-r requirements.txt (line 3)) (0.4.1)\n",
      "Requirement already satisfied: six>=1.5 in c:\\users\\zozi\\documents\\mestrado\\doc-ext\\.venv\\lib\\site-packages (from python-dateutil>=2.8.2->pandas->-r requirements.txt (line 1)) (1.17.0)\n",
      "Requirement already satisfied: sniffio>=1.1 in c:\\users\\zozi\\documents\\mestrado\\doc-ext\\.venv\\lib\\site-packages (from anyio->httpx>=0.27->ollama<1.0.0,>=0.5.1->langchain_ollama->-r requirements.txt (line 4)) (1.3.1)\n"
     ]
    }
   ],
   "source": [
    "!pip install -r requirements.txt"
   ]
  },
  {
   "cell_type": "code",
   "execution_count": 2,
   "id": "a9abd826",
   "metadata": {},
   "outputs": [],
   "source": [
    "import pandas as pd\n",
    "import requests\n",
    "import os\n",
    "import json\n",
    "from langchain_core.messages import HumanMessage\n",
    "from langchain_ollama import ChatOllama"
   ]
  },
  {
   "cell_type": "code",
   "execution_count": 3,
   "id": "f9af2408",
   "metadata": {},
   "outputs": [
    {
     "name": "stdout",
     "output_type": "stream",
     "text": [
      "- gemma3n:e4b\n"
     ]
    }
   ],
   "source": [
    "OLLAMA_HOST = \"http://localhost:11434/\"\n",
    "os.environ[\"OLLAMA_HOST\"] = OLLAMA_HOST\n",
    "\n",
    "response = requests.get(f\"{OLLAMA_HOST}/api/tags\")\n",
    "\n",
    "\n",
    "if response.status_code == 200:\n",
    "    modelos = response.json().get(\"models\", [])\n",
    "    for modelo in modelos:\n",
    "        print(f\"- {modelo['name']}\")\n",
    "else:\n",
    "    print(\"Erro ao acessar o servidor Ollama:\", response.text)\n"
   ]
  },
  {
   "cell_type": "code",
   "execution_count": 4,
   "id": "f4ec2947",
   "metadata": {},
   "outputs": [
    {
     "name": "stdout",
     "output_type": "stream",
     "text": [
      "The **Pacific Ocean** is the largest ocean on Earth.\n",
      "\n",
      "Here's how it compares in size to the other oceans:\n",
      "\n",
      "*   **Pacific Ocean:** Approximately 165.25 million square kilometers (63.8 million square miles). This is roughly **30%** of the Earth's total surface area.\n",
      "\n",
      "*   **Atlantic Ocean:** Approximately 85.13 million square kilometers (32.87 million square miles).  It's about **53%** the size of the Pacific.\n",
      "\n",
      "*   **Indian Ocean:** Approximately 70.56 million square kilometers (27.24 million square miles). It's about **42%** the size of the Pacific.\n",
      "\n",
      "*   **Arctic Ocean:** Approximately 14.06 million square kilometers (5.43 million square miles). It's about **8.6%** the size of the Pacific.\n",
      "\n",
      "*   **Southern Ocean (Antarctic Ocean):** Approximately 20.32 million square kilometers (7.85 million square miles). It's about **12%** the size of the Pacific.\n",
      "\n",
      "**In summary:** The Pacific Ocean is significantly larger than any other ocean. It's more than twice the size of the Atlantic, more than twice the size of the Indian, and many times larger than the Arctic and Southern Oceans.\n",
      "\n",
      "\n",
      "\n",
      "\n"
     ]
    }
   ],
   "source": [
    "MODELO = \"gemma3n:e4b\"\n",
    "\n",
    "llm = ChatOllama(model=MODELO, base_url = OLLAMA_HOST, temperature=0)\n",
    "\n",
    "\n",
    "\n",
    "prompt = f\"\"\"\n",
    "Wich ocean is the bigest and how bigger he is comparing with the others?\n",
    "\"\"\"\n",
    "try:\n",
    "    response = llm.invoke([HumanMessage(content=prompt)])\n",
    "except Exception as e:\n",
    "    print(f\"Erro ao processar\\nErro: {e}\")\n",
    "\n",
    "print(response.content)\n"
   ]
  }
 ],
 "metadata": {
  "kernelspec": {
   "display_name": ".venv",
   "language": "python",
   "name": "python3"
  },
  "language_info": {
   "codemirror_mode": {
    "name": "ipython",
    "version": 3
   },
   "file_extension": ".py",
   "mimetype": "text/x-python",
   "name": "python",
   "nbconvert_exporter": "python",
   "pygments_lexer": "ipython3",
   "version": "3.12.10"
  }
 },
 "nbformat": 4,
 "nbformat_minor": 5
}
